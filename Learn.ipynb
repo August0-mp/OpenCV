{
 "cells": [
  {
   "cell_type": "markdown",
   "id": "9d1a5e90",
   "metadata": {},
   "source": [
    "# OpenCV Course"
   ]
  },
  {
   "cell_type": "code",
   "execution_count": 2,
   "id": "571957b3",
   "metadata": {},
   "outputs": [],
   "source": [
    "import cv2\n",
    "import numpy as np\n",
    "import matplotlib.pyplot as plt\n",
    "import matplotlib\n",
    "import sys\n",
    "\n",
    "matplotlib.use('TkAgg')"
   ]
  },
  {
   "cell_type": "markdown",
   "id": "db06cf32",
   "metadata": {},
   "source": [
    "## Image set"
   ]
  },
  {
   "cell_type": "code",
   "execution_count": 2,
   "id": "15cf6711",
   "metadata": {},
   "outputs": [
    {
     "data": {
      "text/plain": [
       "(800, 800, 3)"
      ]
     },
     "execution_count": 2,
     "metadata": {},
     "output_type": "execute_result"
    }
   ],
   "source": [
    "img_bgr = cv2.imread(\"./Images/sunflowers.png\", cv2.IMREAD_COLOR) # Field of sunflowers\n",
    "img_bgr = cv2.resize(img_bgr, (800, 800))\n",
    "img_rgb = cv2.cvtColor(img_bgr, cv2.COLOR_BGR2RGB)\n",
    "img_gray = cv2.cvtColor(img_rgb, cv2.COLOR_RGB2GRAY)\n",
    "img_bgr.shape"
   ]
  },
  {
   "cell_type": "code",
   "execution_count": 12,
   "id": "4ab4c87d",
   "metadata": {},
   "outputs": [
    {
     "data": {
      "text/plain": [
       "(360, 542, 3)"
      ]
     },
     "execution_count": 12,
     "metadata": {},
     "output_type": "execute_result"
    }
   ],
   "source": [
    "img_bgr = cv2.imread(\"./Images/musicSheet.png\", cv2.IMREAD_COLOR) # Field of sunflowers\n",
    "# img_bgr = cv2.resize(img_bgr, (800, 800))\n",
    "img_rgb = cv2.cvtColor(img_bgr, cv2.COLOR_BGR2RGB)\n",
    "img_gray = cv2.cvtColor(img_rgb, cv2.COLOR_RGB2GRAY)\n",
    "img_bgr.shape"
   ]
  },
  {
   "cell_type": "markdown",
   "id": "a5ff4674",
   "metadata": {},
   "source": [
    "## Image Enhancement"
   ]
  },
  {
   "cell_type": "code",
   "execution_count": 16,
   "id": "8de8fe54",
   "metadata": {},
   "outputs": [],
   "source": [
    "def plotImages(imgArray, flag):\n",
    "    plt.figure(figsize=(16,5))\n",
    "    l = len(imgArray)\n",
    "    for i in range(l):\n",
    "        plt.subplot(1, l, i+1)\n",
    "        if flag == 'gray':\n",
    "            plt.imshow(imgArray[i], cmap='gray')\n",
    "        else:\n",
    "            plt.imshow(imgArray[i])\n",
    "        plt.axis('off')\n",
    "    plt.show()"
   ]
  },
  {
   "cell_type": "markdown",
   "id": "fa6a60a8",
   "metadata": {},
   "source": [
    "### Brightness"
   ]
  },
  {
   "cell_type": "code",
   "execution_count": 9,
   "id": "00dec2b8",
   "metadata": {},
   "outputs": [],
   "source": [
    "matrix = np.ones(img_bgr.shape, dtype=\"uint8\")*50\n",
    "\n",
    "img_rgb_brighter = cv2.add(img_rgb, matrix)\n",
    "img_rgb_darker = cv2.subtract(img_rgb, matrix)\n",
    "\n",
    "plotImages([img_rgb, img_rgb_brighter, img_rgb_darker], _)"
   ]
  },
  {
   "cell_type": "markdown",
   "id": "e36ebf5d",
   "metadata": {},
   "source": [
    "### Contrast"
   ]
  },
  {
   "cell_type": "code",
   "execution_count": null,
   "id": "ccd4a7e3",
   "metadata": {},
   "outputs": [],
   "source": [
    "matrix1 = np.ones(img_bgr.shape, dtype=\"uint8\")*0.8\n",
    "matrix2 = np.ones(img_bgr.shape, dtype=\"uint8\")*1.2\n",
    "\n",
    "img_rgb_brighter = np.uint8(cv2.multiply(np.float64(img_rgb), matrix1))\n",
    "img_rgb_darker = np.uint8(cv2.multiply(np.float64(img_rgb), matrix2)) # Overflow > 255\n",
    "img_rgb_darker = np.uint8(np.clip(cv2.multiply(np.float64(img_rgb), matrix2), 0, 255))\n",
    "\n",
    "plotImages([img_rgb, img_rgb_brighter, img_rgb_darker], _)"
   ]
  },
  {
   "cell_type": "markdown",
   "id": "73252165",
   "metadata": {},
   "source": [
    "### Threshold\n",
    "Transform grayscale images to black and white images\n",
    "\n",
    "#### Application\n",
    "\n",
    "Build an application that could read (decode) music sheets."
   ]
  },
  {
   "cell_type": "code",
   "execution_count": null,
   "id": "dcb6b614",
   "metadata": {},
   "outputs": [],
   "source": [
    "retval, img_tresh = cv2.threshold(img_gray, 100, 255, cv2.THRESH_BINARY) # Pixels with intensity <= 100 are set to 0 and those >= 100 to 255\n",
    "retval, img_thresh_2 = cv2.threshold(img_gray, 130, 255, cv2.THRESH_BINARY)\n",
    "img_thresh_adp = cv2.adaptiveThreshold(img_gray, 255, cv2.ADAPTIVE_THRESH_MEAN_C, cv2.THRESH_BINARY, 11, 7)\n",
    "\n",
    "plotImages([img_rgb, img_gray, img_tresh , img_thresh_2, img_thresh_adp], \"gray\")"
   ]
  },
  {
   "cell_type": "markdown",
   "id": "06bfbce7",
   "metadata": {},
   "source": [
    "### Bitwise operations"
   ]
  },
  {
   "cell_type": "code",
   "execution_count": null,
   "id": "e82ed9ab",
   "metadata": {},
   "outputs": [],
   "source": [
    "img1 = cv2.imread(\"./Images/guaranalogo.png\")\n",
    "img2 = cv2.imread(\"./Images/backgroundColoredSquares.png\")\n",
    "\n",
    "# Convert to RGB\n",
    "img1 = cv2.cvtColor(img1, cv2.COLOR_BGR2RGB)\n",
    "img2 = cv2.cvtColor(img2, cv2.COLOR_BGR2RGB)\n",
    "\n",
    "# Resize background to match logo\n",
    "height, width = img1.shape[:2]\n",
    "img_background_rgb = cv2.resize(img2, (width, height), interpolation=cv2.INTER_AREA)\n",
    "\n",
    "# Create mask and its inverse\n",
    "img1_gray = cv2.cvtColor(img1, cv2.COLOR_RGB2GRAY)\n",
    "_, img1_mask = cv2.threshold(img1_gray, 127, 255, cv2.THRESH_BINARY)\n",
    "img1_mask_inv = cv2.bitwise_not(img1_mask)\n",
    "\n",
    "# Mask background and logo\n",
    "bg_part = cv2.bitwise_and(img_background_rgb, img_background_rgb, mask=img1_mask_inv)\n",
    "fg_part = cv2.bitwise_and(img1, img1, mask=img1_mask)\n",
    "\n",
    "# Combine\n",
    "img_full = cv2.add(bg_part, fg_part) # The masks are complementary, so the color values are added and never exceed 255\n",
    "\n",
    "# Plot\n",
    "plotImages([bg_part, fg_part, img_full], \"gray\")\n",
    "\n"
   ]
  },
  {
   "cell_type": "markdown",
   "id": "45948fc8",
   "metadata": {},
   "source": [
    "## Drawing"
   ]
  },
  {
   "cell_type": "code",
   "execution_count": 6,
   "id": "3c46880d",
   "metadata": {},
   "outputs": [],
   "source": [
    "img_rgb = cv2.cvtColor(img_bgr, cv2.COLOR_BGR2RGB)\n",
    "\n",
    "# We must copy because those functions modify the image in-place\n",
    "img_drawn_l = img_rgb.copy()\n",
    "img_drawn_r = img_rgb.copy()\n",
    "img_drawn_c = img_rgb.copy()\n",
    "\n",
    "\n",
    "cv2.line(img_drawn_l, pt1=(200,200), pt2=(400, 400), color=(0, 255, 255), thickness=3, lineType=cv2.LINE_AA)\n",
    "cv2.rectangle(img_drawn_r, pt1=(200,200), pt2=(400,400), color=(0, 255, 255), thickness=-2, lineType=cv2.LINE_AA) # Negative values in thickness make the object fully filled with color\n",
    "cv2.circle(img_drawn_c, center=(200,200), radius=200, color=(0, 255, 255), thickness=-2, lineType=cv2.LINE_AA)\n",
    "\n",
    "plotImages([img_drawn_l, img_drawn_r, img_drawn_c], _)"
   ]
  },
  {
   "cell_type": "markdown",
   "id": "109b0f26",
   "metadata": {},
   "source": [
    "## Accessing the camera/video"
   ]
  },
  {
   "cell_type": "code",
   "execution_count": null,
   "id": "6a94a312",
   "metadata": {},
   "outputs": [],
   "source": [
    "# Manually set the source (0 for webcam, or a file path)\n",
    "source = cv2.VideoCapture(\"./Images/fishVideo.mp4\") # 0 if it is the camera\n",
    "\n",
    "# Check if the source opened correctly\n",
    "if not source.isOpened():\n",
    "    print(\"Error: Cannot open video source\")\n",
    "else:\n",
    "    window = 'Video Stream'\n",
    "    cv2.namedWindow(window, cv2.WINDOW_NORMAL)\n",
    "\n",
    "    while True:\n",
    "        has_frame, frame = source.read()\n",
    "        if not has_frame:\n",
    "            break\n",
    "\n",
    "        cv2.imshow(window, frame)\n",
    "\n",
    "        # Exit on ESC key\n",
    "        if cv2.waitKey(1) == 27:\n",
    "            break\n",
    "\n",
    "    source.release()\n",
    "    cv2.destroyAllWindows()\n"
   ]
  },
  {
   "cell_type": "code",
   "execution_count": null,
   "id": "0a63d535",
   "metadata": {},
   "outputs": [],
   "source": [
    "# Manually set the source (0 for webcam, or a file path)\n",
    "source = cv2.VideoCapture(\"./Images/fishVideo.mp4\") # 0 if it is the camera\n",
    "\n",
    "# Check if the source opened correctly\n",
    "if not source.isOpened():\n",
    "    print(\"Error: Cannot open video source\")\n",
    "\n",
    "# Show only a frame of the video\n",
    "_, frame = source.read()\n",
    "plt.imshow(frame[..., ::-1])\n",
    "plt.show()\n",
    "\n",
    "source.release()\n",
    "cv2.destroyAllWindows()"
   ]
  },
  {
   "cell_type": "markdown",
   "id": "2071a3a9",
   "metadata": {},
   "source": [
    "### Video Write"
   ]
  },
  {
   "cell_type": "code",
   "execution_count": null,
   "id": "f6ebb796",
   "metadata": {},
   "outputs": [],
   "source": [
    "frame_w = int(source.get(3))\n",
    "frame_h = int(source.get(4))\n",
    "\n"
   ]
  },
  {
   "cell_type": "markdown",
   "id": "279aa307",
   "metadata": {},
   "source": [
    "## Interesting "
   ]
  },
  {
   "cell_type": "code",
   "execution_count": null,
   "id": "ac22ad8a",
   "metadata": {},
   "outputs": [],
   "source": [
    "arr1 = np.array([200, 250], dtype=np.uint8).reshape(-1, 1)\n",
    "arr2 = np.array([40, 40], dtype=np.uint8).reshape(-1, 1)\n",
    "add_numpy = arr1+arr2 # numpy solves overflow (256 bits) using mod so the sum is going to be (arr1+arr2)%256\n",
    "add_cv2 = cv2.add(arr1, arr2) # cv2 caps at 255, so the sum will be min(x, 255)\n",
    "\n",
    "print(add_numpy)\n",
    "print(add_cv2)"
   ]
  },
  {
   "cell_type": "code",
   "execution_count": null,
   "id": "911ad049",
   "metadata": {},
   "outputs": [],
   "source": []
  }
 ],
 "metadata": {
  "kernelspec": {
   "display_name": "Python 3",
   "language": "python",
   "name": "python3"
  },
  "language_info": {
   "codemirror_mode": {
    "name": "ipython",
    "version": 3
   },
   "file_extension": ".py",
   "mimetype": "text/x-python",
   "name": "python",
   "nbconvert_exporter": "python",
   "pygments_lexer": "ipython3",
   "version": "3.10.12"
  }
 },
 "nbformat": 4,
 "nbformat_minor": 5
}
